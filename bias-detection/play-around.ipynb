{
 "cells": [
  {
   "cell_type": "code",
   "execution_count": 217,
   "metadata": {},
   "outputs": [
    {
     "name": "stdout",
     "output_type": "stream",
     "text": [
      "Once deleted, variables cannot be recovered. Proceed (y/[n])? y\n"
     ]
    }
   ],
   "source": [
    "%reset\n"
   ]
  },
  {
   "cell_type": "code",
   "execution_count": 517,
   "metadata": {
    "collapsed": true
   },
   "outputs": [],
   "source": [
    "# Life essentials\n",
    "import pandas as pd\n",
    "import numpy as np\n",
    "import pickle\n",
    "\n",
    "# Plot\n",
    "import matplotlib.pyplot as plt\n",
    "import matplotlib\n",
    "%matplotlib inline\n",
    "matplotlib.style.use('ggplot')\n",
    "\n",
    "# General Machine Learning\n",
    "from sklearn.model_selection import train_test_split, KFold, cross_val_score, cross_validate, GridSearchCV\n",
    "from sklearn.preprocessing import StandardScaler\n",
    "from sklearn.preprocessing import LabelEncoder\n",
    "from sklearn.metrics import accuracy_score\n",
    "from sklearn.decomposition import PCA\n",
    "from sklearn.discriminant_analysis import LinearDiscriminantAnalysis\n",
    "# Binary Models\n",
    "from sklearn.linear_model import LogisticRegression\n",
    "from sklearn.tree import DecisionTreeClassifier\n",
    "from sklearn.neighbors import KNeighborsClassifier\n",
    "from sklearn.naive_bayes import GaussianNB\n",
    "from sklearn.ensemble import RandomForestClassifier, VotingClassifier, GradientBoostingClassifier\n",
    "from  sklearn.neural_network import MLPClassifier\n",
    "# Real Value Model\n",
    "from sklearn.linear_model import LinearRegression\n",
    "    "
   ]
  },
  {
   "cell_type": "code",
   "execution_count": 219,
   "metadata": {
    "collapsed": true
   },
   "outputs": [],
   "source": [
    "random_state = 17\n",
    "held_out_size = 0.2\n",
    "n_splits = 10"
   ]
  },
  {
   "cell_type": "code",
   "execution_count": 549,
   "metadata": {},
   "outputs": [
    {
     "data": {
      "text/plain": [
       "Index(['id', 'name', 'first', 'last', 'compas_screening_date', 'sex', 'dob',\n",
       "       'age', 'age_cat', 'race', 'juv_fel_count', 'decile_score',\n",
       "       'juv_misd_count', 'juv_other_count', 'priors_count',\n",
       "       'days_b_screening_arrest', 'c_jail_in', 'c_jail_out', 'c_case_number',\n",
       "       'c_offense_date', 'c_arrest_date', 'c_days_from_compas',\n",
       "       'c_charge_degree', 'c_charge_desc', 'is_recid', 'r_case_number',\n",
       "       'r_charge_degree', 'r_days_from_arrest', 'r_offense_date',\n",
       "       'r_charge_desc', 'r_jail_in', 'r_jail_out', 'violent_recid',\n",
       "       'is_violent_recid', 'vr_case_number', 'vr_charge_degree',\n",
       "       'vr_offense_date', 'vr_charge_desc', 'type_of_assessment',\n",
       "       'decile_score.1', 'score_text', 'screening_date',\n",
       "       'v_type_of_assessment', 'v_decile_score', 'v_score_text',\n",
       "       'v_screening_date', 'in_custody', 'out_custody', 'priors_count.1',\n",
       "       'start', 'end', 'event', 'two_year_recid'],\n",
       "      dtype='object')"
      ]
     },
     "execution_count": 549,
     "metadata": {},
     "output_type": "execute_result"
    }
   ],
   "source": [
    "raw_df = pd.read_csv('compas-scores-two-years.csv')\n",
    "raw_df = raw_df.replace('African-American', 'African_American')\n",
    "raw_df.columns"
   ]
  },
  {
   "cell_type": "code",
   "execution_count": 630,
   "metadata": {
    "collapsed": true
   },
   "outputs": [],
   "source": [
    "features = ['sex', 'age', 'juv_fel_count', 'juv_other_count', \n",
    "            'juv_misd_count', 'priors_count', \n",
    "            'race', \n",
    "            'c_charge_degree', 'c_charge_desc']\n",
    "\n",
    "target = ['two_year_recid']\n",
    "#target = ['decile_score']"
   ]
  },
  {
   "cell_type": "code",
   "execution_count": 631,
   "metadata": {},
   "outputs": [],
   "source": [
    "df = raw_df[features + target]\n",
    "\n",
    "# convert categorical variables into one-hot\n",
    "df = pd.get_dummies(df, columns=['race', 'c_charge_degree', 'c_charge_degree', 'c_charge_desc'])\n",
    "df['is_male'] = df.sex == 'Male'\n",
    "df = df.drop(['sex'], axis=1)\n",
    "\n",
    "#df.columns"
   ]
  },
  {
   "cell_type": "code",
   "execution_count": 632,
   "metadata": {
    "collapsed": true
   },
   "outputs": [],
   "source": [
    "features = [f for f in df.columns if f not in target]\n",
    "\n",
    "X = StandardScaler().fit_transform(df[features])\n",
    "\n",
    "X_train, X_held_out, y_train, y_held_out, indices_train, indices_test = train_test_split(\n",
    "                                                            X,\n",
    "                                                            df[target], \n",
    "                                                            df.index,\n",
    "                                                            test_size = held_out_size, \n",
    "                                                            random_state = random_state)\n",
    "\n",
    "# To avoid DataConversionWarning: A column-vector y was passed when a 1d array was expected.\n",
    "y_train = np.ravel(y_train)\n",
    "\n",
    "kfold = KFold(n_splits = n_splits,\n",
    "              random_state = random_state)\n"
   ]
  },
  {
   "cell_type": "code",
   "execution_count": 633,
   "metadata": {},
   "outputs": [
    {
     "name": "stdout",
     "output_type": "stream",
     "text": [
      "{'Train_Score': 0.70525038988043665, 'Held_Out_Score': 0.65835065835065831}\n"
     ]
    }
   ],
   "source": [
    "model = LogisticRegression()\n",
    "#model = DecisionTreeClassifier(max_depth=5)\n",
    "\n",
    "model.fit(X_train, y_train)\n",
    "\n",
    "\n",
    "result = {'Train_Score' : model.score(X_train, y_train),\n",
    "          'Held_Out_Score' : model.score(X_held_out, y_held_out)}\n",
    "\n",
    "print(result)"
   ]
  },
  {
   "cell_type": "code",
   "execution_count": 634,
   "metadata": {},
   "outputs": [],
   "source": [
    "#pd.DataFrame(list(zip(features, np.round(model.coef_[0],3))))\n",
    "\n",
    "def score_race(model, df, indices_test, race = 'African_American'):\n",
    "    if race == 'African_American':\n",
    "        indices_race = df[df.race_African_American == True].index\n",
    "        indices_race_held_out = indices_race.intersection(indices_test)\n",
    "        print('Test results, black population - ', len(indices_race_held_out))\n",
    "\n",
    "    if race == 'Caucasian':\n",
    "        indices_race = df[df.race_Caucasian == True].index\n",
    "        indices_race_held_out = indices_white.intersection(indices_test)\n",
    "        print('Test results, white population', len(indices_race_held_out))\n",
    "\n",
    "    X = StandardScaler().fit_transform(df[features].iloc[indices_race_held_out])\n",
    "\n",
    "    results_race = pd.DataFrame({'prediction' : model.predict(X), \n",
    "                                 'reality' : df.iloc[indices_race_held_out].two_year_recid})\n",
    "\n",
    "    FP = results_race[(results_race.prediction == 1) & (results_race.reality == 0)].shape[0]\n",
    "    print('False positive rate: ', round(100 * FP / results_race.shape[0], 3), '%', ' - ', FP)\n",
    "    FN = results_race[(results_race.prediction == 0) & (results_race.reality == 1)].shape[0]\n",
    "    print('False negative rate: ', round(100 * FN / results_race.shape[0], 3), '%', ' - ', FN)\n",
    "    TP = results_race[(results_race.prediction == 1) & (results_race.reality == 1)].shape[0]\n",
    "    print('True positive rate: ', round(100 * TP / results_race.shape[0], 3), '%', ' - ', TP)\n",
    "    TN = results_race[(results_race.prediction == 0) & (results_race.reality == 0)].shape[0]\n",
    "    print('True negative rate: ', round(100 * TN / results_race.shape[0], 3), '%', ' - ', TN)\n",
    "    print()"
   ]
  },
  {
   "cell_type": "code",
   "execution_count": 635,
   "metadata": {},
   "outputs": [
    {
     "name": "stdout",
     "output_type": "stream",
     "text": [
      "Test results, black population -  738\n",
      "False positive rate:  10.027 %  -  74\n",
      "False negative rate:  22.493 %  -  166\n",
      "True positive rate:  27.642 %  -  204\n",
      "True negative rate:  39.837 %  -  294\n",
      "\n",
      "Test results, white population 500\n",
      "False positive rate:  13.8 %  -  69\n",
      "False negative rate:  21.2 %  -  106\n",
      "True positive rate:  19.2 %  -  96\n",
      "True negative rate:  45.8 %  -  229\n",
      "\n"
     ]
    }
   ],
   "source": [
    "score_race(model, df, indices_test)\n",
    "\n",
    "score_race(model, df, indices_test, 'Caucasian')"
   ]
  },
  {
   "cell_type": "code",
   "execution_count": null,
   "metadata": {
    "collapsed": true
   },
   "outputs": [],
   "source": []
  }
 ],
 "metadata": {
  "kernelspec": {
   "display_name": "Python 3",
   "language": "python",
   "name": "python3"
  },
  "language_info": {
   "codemirror_mode": {
    "name": "ipython",
    "version": 3
   },
   "file_extension": ".py",
   "mimetype": "text/x-python",
   "name": "python",
   "nbconvert_exporter": "python",
   "pygments_lexer": "ipython3",
   "version": "3.6.3"
  }
 },
 "nbformat": 4,
 "nbformat_minor": 2
}
