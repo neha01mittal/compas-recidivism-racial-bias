{
 "cells": [
  {
   "cell_type": "code",
   "execution_count": 217,
   "metadata": {},
   "outputs": [
    {
     "name": "stdout",
     "output_type": "stream",
     "text": [
      "Once deleted, variables cannot be recovered. Proceed (y/[n])? y\n"
     ]
    }
   ],
   "source": [
    "%reset\n"
   ]
  },
  {
   "cell_type": "code",
   "execution_count": 218,
   "metadata": {},
   "outputs": [],
   "source": [
    "# Life essentials\n",
    "import pandas as pd\n",
    "import numpy as np\n",
    "import pickle\n",
    "\n",
    "# Plot\n",
    "import matplotlib.pyplot as plt\n",
    "import matplotlib\n",
    "%matplotlib inline\n",
    "matplotlib.style.use('ggplot')\n",
    "\n",
    "# General Machine Learning\n",
    "from sklearn.model_selection import train_test_split, KFold, cross_val_score, cross_validate, GridSearchCV\n",
    "from sklearn.preprocessing import StandardScaler\n",
    "from sklearn.preprocessing import LabelEncoder\n",
    "from sklearn.metrics import accuracy_score\n",
    "from sklearn.decomposition import PCA\n",
    "from sklearn.discriminant_analysis import LinearDiscriminantAnalysis\n",
    "# Binary Models\n",
    "from sklearn.linear_model import LogisticRegression\n",
    "from sklearn.tree import DecisionTreeClassifier\n",
    "from sklearn.neighbors import KNeighborsClassifier\n",
    "from sklearn.naive_bayes import GaussianNB\n",
    "from sklearn.ensemble import RandomForestClassifier, VotingClassifier, GradientBoostingClassifier\n",
    "from  sklearn.neural_network import MLPClassifier\n",
    "# Real Value Model\n",
    "from sklearn.linear_model import LinearRegression\n",
    "    "
   ]
  },
  {
   "cell_type": "code",
   "execution_count": 219,
   "metadata": {
    "collapsed": true
   },
   "outputs": [],
   "source": [
    "random_state = 17\n",
    "held_out_size = 0.2\n",
    "n_splits = 10"
   ]
  },
  {
   "cell_type": "code",
   "execution_count": 326,
   "metadata": {},
   "outputs": [],
   "source": [
    "raw_df = pd.read_csv('compas-scores-two-years.csv')\n",
    "raw_df = raw_df.replace('African-American', 'African_American')"
   ]
  },
  {
   "cell_type": "code",
   "execution_count": 487,
   "metadata": {
    "collapsed": true
   },
   "outputs": [],
   "source": [
    "features = ['sex', 'age', 'juv_fel_count', 'juv_other_count', \n",
    "            'juv_misd_count', 'priors_count', \n",
    "            'race', 'r_charge_degree']\n",
    "\n",
    "# 'age_cat' 'days_b_screening_arrest', \n",
    "\n",
    "# full of NA, unbalanced for non-recid 'c_days_from_compas',\n",
    "\n",
    "target = ['two_year_recid']\n",
    "\n",
    "not_used = ['id', 'name', 'first', 'last', 'compas_screening_date', 'dob',\n",
    "'decile_score', \n",
    "'c_jail_in', 'c_jail_out', 'c_case_number',\n",
    "'c_offense_date', 'c_arrest_date', \n",
    "'c_charge_degree', 'c_charge_desc', 'is_recid', 'r_case_number',\n",
    "'r_charge_degree', 'r_days_from_arrest', 'r_offense_date',\n",
    "'r_charge_desc', 'r_jail_in', 'r_jail_out', 'violent_recid',\n",
    "'vr_case_number', 'vr_charge_degree',\n",
    "'vr_offense_date', 'vr_charge_desc', 'screening_date',\n",
    "'v_screening_date', 'in_custody', 'out_custody',\n",
    "'start', 'end', 'event', \n",
    "            'priors_count.1', 'is_recid', \n",
    "'type_of_assessment', 'decile_score.1', 'score_text'\n",
    "'v_type_of_assessment', 'v_decile_score', 'v_score_text']\n",
    "\n"
   ]
  },
  {
   "cell_type": "code",
   "execution_count": 488,
   "metadata": {},
   "outputs": [
    {
     "data": {
      "text/plain": [
       "Index(['age', 'juv_fel_count', 'juv_other_count', 'juv_misd_count',\n",
       "       'priors_count', 'is_violent_recid', 'two_year_recid',\n",
       "       'race_African_American', 'race_Asian', 'race_Caucasian',\n",
       "       'race_Hispanic', 'race_Native American', 'race_Other',\n",
       "       'r_charge_degree_(CO3)', 'r_charge_degree_(F1)', 'r_charge_degree_(F2)',\n",
       "       'r_charge_degree_(F3)', 'r_charge_degree_(F5)', 'r_charge_degree_(F6)',\n",
       "       'r_charge_degree_(F7)', 'r_charge_degree_(M1)', 'r_charge_degree_(M2)',\n",
       "       'r_charge_degree_(MO3)', 'is_male'],\n",
       "      dtype='object')"
      ]
     },
     "execution_count": 488,
     "metadata": {},
     "output_type": "execute_result"
    }
   ],
   "source": [
    "df = raw_df[features + target]\n",
    "\n",
    "# convert categorical variables into one-hot\n",
    "df = pd.get_dummies(df, columns=['race', 'r_charge_degree'])\n",
    "df['is_male'] = df.sex == 'Male'\n",
    "df = df.drop(['sex'], axis=1)\n",
    "\n",
    "df.columns"
   ]
  },
  {
   "cell_type": "code",
   "execution_count": 489,
   "metadata": {},
   "outputs": [
    {
     "data": {
      "text/plain": [
       "0    3963\n",
       "1    3251\n",
       "Name: two_year_recid, dtype: int64"
      ]
     },
     "execution_count": 489,
     "metadata": {},
     "output_type": "execute_result"
    }
   ],
   "source": [
    "df.two_year_recid.value_counts()"
   ]
  },
  {
   "cell_type": "code",
   "execution_count": 490,
   "metadata": {},
   "outputs": [],
   "source": [
    "features = [f for f in df.columns if f not in target]\n",
    "\n",
    "X = StandardScaler().fit_transform(df[features])\n",
    "\n",
    "X_train, X_held_out, y_train, y_held_out, indices_train, indices_test = train_test_split(\n",
    "                                                            X,\n",
    "                                                            df[target], \n",
    "                                                            df.index,\n",
    "                                                            test_size = held_out_size, \n",
    "                                                            random_state = random_state)\n",
    "\n",
    "# To avoid DataConversionWarning: A column-vector y was passed when a 1d array was expected.\n",
    "y_train = np.ravel(y_train)\n",
    "\n",
    "kfold = KFold(n_splits = n_splits,\n",
    "              random_state = random_state)\n"
   ]
  },
  {
   "cell_type": "code",
   "execution_count": 491,
   "metadata": {},
   "outputs": [
    {
     "name": "stdout",
     "output_type": "stream",
     "text": [
      "{'Train_Score': 0.96378443943857217, 'Held_Out_Score': 0.96049896049896055}\n"
     ]
    }
   ],
   "source": [
    "#model = LogisticRegression()\n",
    "model = DecisionTreeClassifier(max_depth=5)\n",
    "\n",
    "model.fit(X_train, y_train)\n",
    "\n",
    "\n",
    "result = {'Train_Score' : model.score(X_train, y_train),\n",
    "          'Held_Out_Score' : model.score(X_held_out, y_held_out)}\n",
    "\n",
    "print(result)"
   ]
  },
  {
   "cell_type": "code",
   "execution_count": 492,
   "metadata": {},
   "outputs": [],
   "source": [
    "#pd.DataFrame(list(zip(features, np.round(model.coef_[0],3))))\n"
   ]
  },
  {
   "cell_type": "code",
   "execution_count": 493,
   "metadata": {},
   "outputs": [
    {
     "name": "stdout",
     "output_type": "stream",
     "text": [
      "Results, white population\n",
      "False positive rate:  1.8 %\n",
      "False negative rate:  0.6 %\n",
      "True positive rate:  39.8 %\n",
      "True negative rate:  57.8 %\n"
     ]
    }
   ],
   "source": [
    "print('Results, white population')\n",
    "\n",
    "indices_white = df[df.race_Caucasian == True].index\n",
    "indices_white_held_out = indices_white.intersection(indices_test)\n",
    "\n",
    "X = StandardScaler().fit_transform(df[features].iloc[indices_white_held_out])\n",
    "\n",
    "results_white = pd.DataFrame({'prediction' : model.predict(X), \n",
    "                              'reality' : df.iloc[indices_white_held_out].two_year_recid})\n",
    "\n",
    "\n",
    "FP = results_white[(results_white.prediction == 1) & (results_white.reality == 0)].shape[0]\n",
    "print('False positive rate: ', round(100 * FP / results_white.shape[0], 3), '%')\n",
    "FN = results_white[(results_white.prediction == 0) & (results_white.reality == 1)].shape[0]\n",
    "print('False negative rate: ', round(100 * FN / results_white.shape[0], 3), '%')\n",
    "TP = results_white[(results_white.prediction == 1) & (results_white.reality == 1)].shape[0]\n",
    "print('True positive rate: ', round(100 * TP / results_white.shape[0], 3), '%')\n",
    "TN = results_white[(results_white.prediction == 0) & (results_white.reality == 0)].shape[0]\n",
    "print('True negative rate: ', round(100 * TN / results_white.shape[0], 3), '%')\n"
   ]
  },
  {
   "cell_type": "code",
   "execution_count": 494,
   "metadata": {},
   "outputs": [
    {
     "name": "stdout",
     "output_type": "stream",
     "text": [
      "Results, black population\n",
      "False positive rate:  3.93 %\n",
      "False negative rate:  0.813 %\n",
      "True positive rate:  49.322 %\n",
      "True negative rate:  45.935 %\n"
     ]
    }
   ],
   "source": [
    "print('Results, black population')\n",
    "\n",
    "indices_black = df[df.race_African_American == True].index\n",
    "indices_black_held_out = indices_black.intersection(indices_test)\n",
    "\n",
    "X = StandardScaler().fit_transform(df[features].iloc[indices_black_held_out])\n",
    "\n",
    "results_black = pd.DataFrame({'prediction' : model.predict(X), \n",
    "                              'reality' : df.iloc[indices_black_held_out].two_year_recid})\n",
    "\n",
    "\n",
    "FP = results_black[(results_black.prediction == 1) & (results_black.reality == 0)].shape[0]\n",
    "print('False positive rate: ', round(100 * FP / results_black.shape[0], 3), '%')\n",
    "FN = results_black[(results_black.prediction == 0) & (results_black.reality == 1)].shape[0]\n",
    "print('False negative rate: ', round(100 * FN / results_black.shape[0], 3), '%')\n",
    "TP = results_black[(results_black.prediction == 1) & (results_black.reality == 1)].shape[0]\n",
    "print('True positive rate: ', round(100 * TP / results_black.shape[0], 3), '%')\n",
    "TN = results_black[(results_black.prediction == 0) & (results_black.reality == 0)].shape[0]\n",
    "print('True negative rate: ', round(100 * TN / results_black.shape[0], 3), '%')\n"
   ]
  },
  {
   "cell_type": "code",
   "execution_count": 452,
   "metadata": {},
   "outputs": [
    {
     "data": {
      "text/plain": [
       "'digraph Tree {\\nnode [shape=box] ;\\n0 [label=\"X[19] <= 0.895\\\\ngini = 0.495\\\\nsamples = 5771\\\\nvalue = [3165, 2606]\"] ;\\n1 [label=\"gini = 0.458\\\\nsamples = 4808\\\\nvalue = [3102, 1706]\"] ;\\n0 -> 1 [labeldistance=2.5, labelangle=45, headlabel=\"True\"] ;\\n2 [label=\"gini = 0.122\\\\nsamples = 963\\\\nvalue = [63, 900]\"] ;\\n0 -> 2 [labeldistance=2.5, labelangle=-45, headlabel=\"False\"] ;\\n}'"
      ]
     },
     "execution_count": 452,
     "metadata": {},
     "output_type": "execute_result"
    }
   ],
   "source": [
    "from sklearn import tree\n",
    "model\n",
    "tree.export_graphviz(model, out_file=None)   "
   ]
  },
  {
   "cell_type": "code",
   "execution_count": 478,
   "metadata": {},
   "outputs": [
    {
     "name": "stdout",
     "output_type": "stream",
     "text": [
      "AA Low 1522\n",
      "TN: 990\n",
      "FN: 532\n",
      "AA High 2174\n",
      "TP: 1369\n",
      "FP: 805\n",
      "\n",
      "C Low 1600\n",
      "TN: 1139\n",
      "FN: 461\n",
      "C High 854\n",
      "TP: 505\n",
      "FP: 349\n"
     ]
    }
   ],
   "source": [
    "print('AA Low', len(raw_df[(raw_df.race == 'African_American') & (raw_df.score_text == 'Low')]))\n",
    "print('TN:', len(raw_df[(raw_df.race == 'African_American') & (raw_df.score_text == 'Low') & (raw_df.two_year_recid == False)]))\n",
    "print('FN:', len(raw_df[(raw_df.race == 'African_American') & (raw_df.score_text == 'Low') & (raw_df.two_year_recid == True)]))\n",
    "print('AA High', len(raw_df[(raw_df.race == 'African_American') & (raw_df.score_text != 'Low')]))\n",
    "print('TP:', len(raw_df[(raw_df.race == 'African_American') & (raw_df.score_text != 'Low') & (raw_df.two_year_recid == True)]))\n",
    "print('FP:', len(raw_df[(raw_df.race == 'African_American') & (raw_df.score_text != 'Low') & (raw_df.two_year_recid == False)]))\n",
    "print()\n",
    "print('C Low', len(raw_df[(raw_df.race == 'Caucasian') & (raw_df.score_text == 'Low')]))\n",
    "print('TN:', len(raw_df[(raw_df.race == 'Caucasian') & (raw_df.score_text == 'Low') & (raw_df.two_year_recid == False)]))\n",
    "print('FN:', len(raw_df[(raw_df.race == 'Caucasian') & (raw_df.score_text == 'Low') & (raw_df.two_year_recid == True)]))\n",
    "print('C High', len(raw_df[(raw_df.race == 'Caucasian') & (raw_df.score_text != 'Low')]))\n",
    "print('TP:', len(raw_df[(raw_df.race == 'Caucasian') & (raw_df.score_text != 'Low') & (raw_df.two_year_recid == True)]))\n",
    "print('FP:', len(raw_df[(raw_df.race == 'Caucasian') & (raw_df.score_text != 'Low') & (raw_df.two_year_recid == False)]))\n"
   ]
  },
  {
   "cell_type": "raw",
   "metadata": {},
   "source": []
  }
 ],
 "metadata": {
  "kernelspec": {
   "display_name": "Python 3",
   "language": "python",
   "name": "python3"
  },
  "language_info": {
   "codemirror_mode": {
    "name": "ipython",
    "version": 3
   },
   "file_extension": ".py",
   "mimetype": "text/x-python",
   "name": "python",
   "nbconvert_exporter": "python",
   "pygments_lexer": "ipython3",
   "version": "3.6.3"
  }
 },
 "nbformat": 4,
 "nbformat_minor": 2
}
