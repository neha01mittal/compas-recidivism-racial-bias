{
 "cells": [
  {
   "cell_type": "code",
   "execution_count": 10,
   "metadata": {},
   "outputs": [
    {
     "name": "stdout",
     "output_type": "stream",
     "text": [
      "Once deleted, variables cannot be recovered. Proceed (y/[n])? \n",
      "Nothing done.\n"
     ]
    }
   ],
   "source": [
    "%reset\n"
   ]
  },
  {
   "cell_type": "code",
   "execution_count": 11,
   "metadata": {
    "collapsed": true
   },
   "outputs": [],
   "source": [
    "# Life essentials\n",
    "import pandas as pd\n",
    "import numpy as np\n",
    "import pickle\n",
    "\n",
    "# Plot\n",
    "import matplotlib.pyplot as plt\n",
    "import matplotlib\n",
    "%matplotlib inline\n",
    "#matplotlib.style.use('ggplot')\n",
    "\n",
    "# General Machine Learning\n",
    "from sklearn.model_selection import train_test_split, KFold, cross_val_score, cross_validate, GridSearchCV\n",
    "from sklearn.preprocessing import StandardScaler\n",
    "from sklearn.preprocessing import LabelEncoder\n",
    "from sklearn.metrics import accuracy_score\n",
    "from sklearn.decomposition import PCA\n",
    "from sklearn.discriminant_analysis import LinearDiscriminantAnalysis\n",
    "# Binary Models\n",
    "from sklearn.linear_model import LogisticRegression\n",
    "from sklearn.tree import DecisionTreeClassifier\n",
    "from sklearn.neighbors import KNeighborsClassifier\n",
    "from sklearn.naive_bayes import GaussianNB\n",
    "from sklearn.ensemble import RandomForestClassifier, VotingClassifier, GradientBoostingClassifier\n",
    "from  sklearn.neural_network import MLPClassifier\n",
    "# Real Value Model\n",
    "from sklearn.linear_model import LinearRegression\n",
    "    "
   ]
  },
  {
   "cell_type": "code",
   "execution_count": 12,
   "metadata": {
    "collapsed": true
   },
   "outputs": [],
   "source": [
    "random_state = 17\n",
    "held_out_size = 0.2\n",
    "n_splits = 10"
   ]
  },
  {
   "cell_type": "code",
   "execution_count": 13,
   "metadata": {},
   "outputs": [
    {
     "data": {
      "text/plain": [
       "Index([u'id', u'name', u'first', u'last', u'compas_screening_date', u'sex',\n",
       "       u'dob', u'age', u'age_cat', u'race', u'juv_fel_count', u'decile_score',\n",
       "       u'juv_misd_count', u'juv_other_count', u'priors_count',\n",
       "       u'days_b_screening_arrest', u'c_jail_in', u'c_jail_out',\n",
       "       u'c_case_number', u'c_offense_date', u'c_arrest_date',\n",
       "       u'c_days_from_compas', u'c_charge_degree', u'c_charge_desc',\n",
       "       u'is_recid', u'r_case_number', u'r_charge_degree',\n",
       "       u'r_days_from_arrest', u'r_offense_date', u'r_charge_desc',\n",
       "       u'r_jail_in', u'r_jail_out', u'violent_recid', u'is_violent_recid',\n",
       "       u'vr_case_number', u'vr_charge_degree', u'vr_offense_date',\n",
       "       u'vr_charge_desc', u'type_of_assessment', u'decile_score.1',\n",
       "       u'score_text', u'screening_date', u'v_type_of_assessment',\n",
       "       u'v_decile_score', u'v_score_text', u'v_screening_date', u'in_custody',\n",
       "       u'out_custody', u'priors_count.1', u'start', u'end', u'event',\n",
       "       u'two_year_recid'],\n",
       "      dtype='object')"
      ]
     },
     "execution_count": 13,
     "metadata": {},
     "output_type": "execute_result"
    }
   ],
   "source": [
    "raw_df = pd.read_csv('compas-data/compas-scores-two-years.csv')\n",
    "raw_df = raw_df.replace('African-American', 'African_American')\n",
    "raw_df.columns"
   ]
  },
  {
   "cell_type": "code",
   "execution_count": 17,
   "metadata": {},
   "outputs": [],
   "source": [
    "features = ['sex', 'age', 'juv_fel_count', 'juv_other_count', \n",
    "            'juv_misd_count', 'priors_count', \n",
    "            'race', 'c_charge_degree']\n",
    "\n",
    "target = ['two_year_recid']\n",
    "\n",
    "df = raw_df[features + target]\n"
   ]
  },
  {
   "cell_type": "code",
   "execution_count": 18,
   "metadata": {},
   "outputs": [],
   "source": [
    "\n",
    "# convert categorical variables into one-hot\n",
    "df = pd.get_dummies(df, columns=['race', 'c_charge_degree'])\n",
    "df['is_male'] = df.sex == 'Male'\n",
    "df = df.drop(['sex'], axis=1)\n",
    "\n",
    "#df.columns"
   ]
  },
  {
   "cell_type": "code",
   "execution_count": 19,
   "metadata": {},
   "outputs": [
    {
     "data": {
      "text/plain": [
       "Index([u'age', u'juv_fel_count', u'juv_other_count', u'juv_misd_count',\n",
       "       u'priors_count', u'two_year_recid', u'race_African_American',\n",
       "       u'race_Asian', u'race_Caucasian', u'race_Hispanic',\n",
       "       u'race_Native American', u'race_Other', u'c_charge_degree_F',\n",
       "       u'c_charge_degree_M', u'is_male'],\n",
       "      dtype='object')"
      ]
     },
     "execution_count": 19,
     "metadata": {},
     "output_type": "execute_result"
    }
   ],
   "source": [
    "df.columns"
   ]
  },
  {
   "cell_type": "code",
   "execution_count": 20,
   "metadata": {
    "collapsed": true
   },
   "outputs": [],
   "source": [
    "features = [f for f in df.columns if f not in target]\n",
    "\n",
    "X = StandardScaler().fit_transform(df[features])\n",
    "\n",
    "X_train, X_held_out, y_train, y_held_out, indices_train, indices_test = train_test_split(\n",
    "                                                            X,\n",
    "                                                            df[target], \n",
    "                                                            df.index,\n",
    "                                                            test_size = held_out_size, \n",
    "                                                            random_state = random_state)\n",
    "\n",
    "# To avoid DataConversionWarning: A column-vector y was passed when a 1d array was expected.\n",
    "y_train = np.ravel(y_train)\n",
    "\n",
    "kfold = KFold(n_splits = n_splits,\n",
    "              random_state = random_state)\n"
   ]
  },
  {
   "cell_type": "code",
   "execution_count": 21,
   "metadata": {},
   "outputs": [
    {
     "name": "stdout",
     "output_type": "stream",
     "text": [
      "{'Train_Score': 0.6787385201871426, 'Held_Out_Score': 0.6645876645876646}\n"
     ]
    },
    {
     "data": {
      "text/plain": [
       "array([[-0.51712346,  0.07715247,  0.15115428,  0.02718   ,  0.68269981,\n",
       "         0.03973855, -0.02120995,  0.00324777, -0.04588637,  0.02189169,\n",
       "        -0.03623983,  0.0441063 , -0.0441063 ,  0.109681  ]])"
      ]
     },
     "execution_count": 21,
     "metadata": {},
     "output_type": "execute_result"
    }
   ],
   "source": [
    "model = LogisticRegression()\n",
    "#model = DecisionTreeClassifier(max_depth=5)\n",
    "\n",
    "model.fit(X_train, y_train)\n",
    "\n",
    "\n",
    "result = {'Train_Score' : model.score(X_train, y_train),\n",
    "          'Held_Out_Score' : model.score(X_held_out, y_held_out)}\n",
    "\n",
    "print(result)\n",
    "model.coef_"
   ]
  },
  {
   "cell_type": "code",
   "execution_count": 24,
   "metadata": {
    "collapsed": true
   },
   "outputs": [],
   "source": [
    "#pd.DataFrame(list(zip(features, np.round(model.coef_[0],3))))\n",
    "\n",
    "def score_race(model, df, indices_test, race = 'African_American'):\n",
    "    if race == 'African_American':\n",
    "        indices_race = df[df.race_African_American == True].index\n",
    "        indices_race_held_out = indices_race.intersection(indices_test)\n",
    "        print('Test results, black population - ', len(indices_race_held_out))\n",
    "\n",
    "    if race == 'Caucasian':\n",
    "        indices_race = df[df.race_Caucasian == True].index\n",
    "        indices_race_held_out = indices_race.intersection(indices_test)\n",
    "        print('Test results, white population', len(indices_race_held_out))\n",
    "\n",
    "    X = StandardScaler().fit_transform(df[features].iloc[indices_race_held_out])\n",
    "\n",
    "    results_race = pd.DataFrame({'prediction' : model.predict(X), \n",
    "                                 'reality' : df.iloc[indices_race_held_out].two_year_recid})\n",
    "\n",
    "    FP = results_race[(results_race.prediction == 1) & (results_race.reality == 0)].shape[0]\n",
    "    print('False positive rate: ', round(100 * FP / results_race.shape[0], 3), '%', ' - ', FP)\n",
    "    FN = results_race[(results_race.prediction == 0) & (results_race.reality == 1)].shape[0]\n",
    "    print('False negative rate: ', round(100 * FN / results_race.shape[0], 3), '%', ' - ', FN)\n",
    "    TP = results_race[(results_race.prediction == 1) & (results_race.reality == 1)].shape[0]\n",
    "    print('True positive rate: ', round(100 * TP / results_race.shape[0], 3), '%', ' - ', TP)\n",
    "    TN = results_race[(results_race.prediction == 0) & (results_race.reality == 0)].shape[0]\n",
    "    print('True negative rate: ', round(100 * TN / results_race.shape[0], 3), '%', ' - ', TN)\n",
    "    print()"
   ]
  },
  {
   "cell_type": "code",
   "execution_count": 25,
   "metadata": {},
   "outputs": [
    {
     "name": "stdout",
     "output_type": "stream",
     "text": [
      "('Test results, black population - ', 738)\n",
      "('False positive rate: ', 8.0, '%', ' - ', 64)\n",
      "('False negative rate: ', 24.0, '%', ' - ', 181)\n",
      "('True positive rate: ', 25.0, '%', ' - ', 189)\n",
      "('True negative rate: ', 41.0, '%', ' - ', 304)\n",
      "()\n",
      "('Test results, white population', 500)\n",
      "('False positive rate: ', 13.0, '%', ' - ', 69)\n",
      "('False negative rate: ', 20.0, '%', ' - ', 102)\n",
      "('True positive rate: ', 20.0, '%', ' - ', 100)\n",
      "('True negative rate: ', 45.0, '%', ' - ', 229)\n",
      "()\n"
     ]
    }
   ],
   "source": [
    "score_race(model, df, indices_test)\n",
    "\n",
    "score_race(model, df, indices_test, 'Caucasian')"
   ]
  },
  {
   "cell_type": "code",
   "execution_count": 26,
   "metadata": {},
   "outputs": [
    {
     "data": {
      "text/plain": [
       "-0.35544836268953717"
      ]
     },
     "execution_count": 26,
     "metadata": {},
     "output_type": "execute_result"
    }
   ],
   "source": [
    "parameters = [1] * X_train.shape[1] \n",
    "\n",
    "np.dot(parameters, X_train[0])"
   ]
  },
  {
   "cell_type": "markdown",
   "metadata": {},
   "source": [
    "## Attempt  to cuztomize sklearn loss function"
   ]
  },
  {
   "cell_type": "code",
   "execution_count": 29,
   "metadata": {},
   "outputs": [
    {
     "data": {
      "text/plain": [
       "      fun: -3988.994754291477\n",
       " hess_inv: <14x14 LbfgsInvHessProduct with dtype=float64>\n",
       "      jac: array([ 2.27373675e-04, -4.54747351e-05,  4.54747351e-05,  4.54747351e-05,\n",
       "        1.81898940e-04,  0.00000000e+00,  4.54747351e-05, -4.54747351e-05,\n",
       "       -3.18323146e-04,  9.09494702e-05,  0.00000000e+00, -2.27373675e-04,\n",
       "        1.81898940e-04,  3.18323146e-04])\n",
       "  message: 'CONVERGENCE: REL_REDUCTION_OF_F_<=_FACTR*EPSMCH'\n",
       "     nfev: 660\n",
       "      nit: 36\n",
       "   status: 0\n",
       "  success: True\n",
       "        x: array([ 2235.76830682, -1089.97155367,  -621.2973802 ,  -136.9442596 ,\n",
       "       -3822.47471889,  -117.89962559,    47.64752582,   191.91179462,\n",
       "          40.18875822,   -24.01086583,  -204.09391604,    26.61786147,\n",
       "         -26.65768631,  -153.24618458])"
      ]
     },
     "execution_count": 29,
     "metadata": {},
     "output_type": "execute_result"
    }
   ],
   "source": [
    "from scipy.optimize import minimize\n",
    "\n",
    "parameters = [0] * X_train.shape[1] \n",
    "\n",
    "def lik(parameters, X = X_train, Y = y_train):\n",
    "    L = 0\n",
    "    for i in range(0, X.shape[0]):\n",
    "        if Y[i] == 1:\n",
    "            p_sample = 1 / (1 + np.exp(np.dot(parameters, X[i])))\n",
    "        if Y[i] == 0:\n",
    "            p_sample = 1 - 1 / (1 + np.exp(np.dot(parameters, X[i])))\n",
    "        L = L - p_sample\n",
    "    return L\n",
    "\n",
    "lik_model = minimize(lik, parameters, method='L-BFGS-B')\n",
    "lik_model"
   ]
  },
  {
   "cell_type": "code",
   "execution_count": null,
   "metadata": {
    "collapsed": true
   },
   "outputs": [],
   "source": []
  }
 ],
 "metadata": {
  "kernelspec": {
   "display_name": "Python 3",
   "language": "python",
   "name": "python3"
  },
  "language_info": {
   "codemirror_mode": {
    "name": "ipython",
    "version": 2
   },
   "file_extension": ".py",
   "mimetype": "text/x-python",
   "name": "python",
   "nbconvert_exporter": "python",
   "pygments_lexer": "ipython2",
   "version": "2.7.10"
  }
 },
 "nbformat": 4,
 "nbformat_minor": 2
}
